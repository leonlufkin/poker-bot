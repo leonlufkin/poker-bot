{
 "cells": [
  {
   "cell_type": "code",
   "execution_count": 1,
   "metadata": {},
   "outputs": [],
   "source": [
    "import numpy as np\n",
    "from CFR_player import Subgame, CFRPlayer\n",
    "from utils import GameState"
   ]
  },
  {
   "cell_type": "code",
   "execution_count": 2,
   "metadata": {},
   "outputs": [
    {
     "name": "stdout",
     "output_type": "stream",
     "text": [
      "[[-1. -1.  0.]\n",
      " [-1.  1. -1.]\n",
      " [-1.  0. -1.]]\n"
     ]
    }
   ],
   "source": [
    "board = -np.ones((3,3))\n",
    "board[0,2] = 0\n",
    "board[1,1] = 1\n",
    "board[2,1] = 0\n",
    "print(board)\n",
    "num_players = 2\n",
    "game_state = GameState(board, num_players, 1)\n",
    "my_number = 1"
   ]
  },
  {
   "cell_type": "code",
   "execution_count": 3,
   "metadata": {},
   "outputs": [
    {
     "name": "stdout",
     "output_type": "stream",
     "text": [
      "length of children: 0\n"
     ]
    }
   ],
   "source": [
    "CFRPlayer().get_move(game_state)"
   ]
  },
  {
   "cell_type": "code",
   "execution_count": 4,
   "metadata": {},
   "outputs": [],
   "source": [
    "subgame = Subgame(board, num_players, my_number, 1, 0)\n",
    "subgame.display_children()"
   ]
  },
  {
   "cell_type": "code",
   "execution_count": 7,
   "metadata": {},
   "outputs": [
    {
     "data": {
      "text/plain": [
       "True"
      ]
     },
     "execution_count": 7,
     "metadata": {},
     "output_type": "execute_result"
    }
   ],
   "source": [
    "subgame.is_terminal_node()"
   ]
  },
  {
   "cell_type": "code",
   "execution_count": 11,
   "metadata": {},
   "outputs": [
    {
     "name": "stdout",
     "output_type": "stream",
     "text": [
      "Board (1.000) - Player 0\n",
      "[[ 1.  0.  1.]\n",
      " [ 0.  1.  0.]\n",
      " [-1. -1.  0.]]\n",
      "Board (0.000) - Player 0\n",
      "[[ 1.  0.  1.]\n",
      " [ 0.  1. -1.]\n",
      " [ 0. -1.  0.]]\n",
      "Board (1.000) - Player 0\n",
      "[[ 1.  0.  1.]\n",
      " [ 0.  1. -1.]\n",
      " [-1.  0.  0.]]\n"
     ]
    }
   ],
   "source": [
    "subgame.children[0].children[0].children[0].display_children()"
   ]
  },
  {
   "cell_type": "code",
   "execution_count": 8,
   "metadata": {},
   "outputs": [
    {
     "name": "stdout",
     "output_type": "stream",
     "text": [
      "Board (0.000) - Player 0\n",
      "[[ 1. -1. -1.]\n",
      " [ 1.  0. -1.]\n",
      " [-1. -1. -1.]]\n"
     ]
    }
   ],
   "source": [
    "subgame.children[0].display_board()"
   ]
  },
  {
   "cell_type": "code",
   "execution_count": 6,
   "metadata": {},
   "outputs": [
    {
     "name": "stdout",
     "output_type": "stream",
     "text": [
      "Board (1.000) - Player 0\n",
      "[[ 1.  0.  0.]\n",
      " [ 0.  0.  1.]\n",
      " [-1. -1.  1.]]\n",
      "Board (1.000) - Player 0\n",
      "[[ 1. -1.  0.]\n",
      " [ 0.  0.  1.]\n",
      " [ 0. -1.  1.]]\n",
      "Board (1.000) - Player 0\n",
      "[[ 1. -1.  0.]\n",
      " [ 0.  0.  1.]\n",
      " [-1.  0.  1.]]\n"
     ]
    }
   ],
   "source": [
    "subgame.children[1].children[3].display_children()"
   ]
  },
  {
   "cell_type": "code",
   "execution_count": 9,
   "metadata": {},
   "outputs": [
    {
     "name": "stdout",
     "output_type": "stream",
     "text": [
      "Board (1.000) - Player 1\n",
      "[[ 1.  1.  0.]\n",
      " [ 0.  0.  1.]\n",
      " [-1.  0.  1.]]\n",
      "Board (1.000) - Player 1\n",
      "[[ 1. -1.  0.]\n",
      " [ 0.  0.  1.]\n",
      " [ 1.  0.  1.]]\n"
     ]
    }
   ],
   "source": [
    "subgame.children[1].children[3].children[2].display_children()"
   ]
  },
  {
   "cell_type": "code",
   "execution_count": 12,
   "metadata": {},
   "outputs": [],
   "source": [
    "child = subgame.children[1]\n",
    "player_board = child.board == child.node_player"
   ]
  },
  {
   "cell_type": "code",
   "execution_count": 18,
   "metadata": {},
   "outputs": [
    {
     "ename": "AttributeError",
     "evalue": "'numpy.ndarray' object has no attribute 'fliplr'",
     "output_type": "error",
     "traceback": [
      "\u001b[0;31m---------------------------------------------------------------------------\u001b[0m",
      "\u001b[0;31mAttributeError\u001b[0m                            Traceback (most recent call last)",
      "\u001b[0;32m/var/folders/gq/3xlhh9496_j9xpjb7tkbqh280000gn/T/ipykernel_85969/3159761977.py\u001b[0m in \u001b[0;36m<module>\u001b[0;34m\u001b[0m\n\u001b[0;32m----> 1\u001b[0;31m \u001b[0mplayer_board\u001b[0m\u001b[0;34m.\u001b[0m\u001b[0mfliplr\u001b[0m\u001b[0;34m(\u001b[0m\u001b[0;34m)\u001b[0m\u001b[0;34m\u001b[0m\u001b[0;34m\u001b[0m\u001b[0m\n\u001b[0m",
      "\u001b[0;31mAttributeError\u001b[0m: 'numpy.ndarray' object has no attribute 'fliplr'"
     ]
    }
   ],
   "source": [
    "player_board"
   ]
  },
  {
   "cell_type": "code",
   "execution_count": null,
   "metadata": {},
   "outputs": [],
   "source": []
  }
 ],
 "metadata": {
  "interpreter": {
   "hash": "aee8b7b246df8f9039afb4144a1f6fd8d2ca17a180786b69acc140d282b71a49"
  },
  "kernelspec": {
   "display_name": "Python 3.8.2 64-bit",
   "language": "python",
   "name": "python3"
  },
  "language_info": {
   "codemirror_mode": {
    "name": "ipython",
    "version": 3
   },
   "file_extension": ".py",
   "mimetype": "text/x-python",
   "name": "python",
   "nbconvert_exporter": "python",
   "pygments_lexer": "ipython3",
   "version": "3.8.2"
  },
  "orig_nbformat": 4
 },
 "nbformat": 4,
 "nbformat_minor": 2
}
